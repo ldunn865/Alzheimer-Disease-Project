{
 "cells": [
  {
   "cell_type": "code",
   "execution_count": 1,
   "id": "0d809895",
   "metadata": {},
   "outputs": [],
   "source": [
    "import numpy as np\n",
    "import seaborn as sns\n",
    "import matplotlib.pyplot as plt\n",
    "import pandas as pd\n",
    "\n",
    "from sklearn import metrics\n",
    "from time import time\n",
    "\n",
    "%matplotlib inline\n",
    "\n",
    "from sklearn import tree\n",
    "from sklearn.tree import DecisionTreeClassifier\n",
    "from sklearn.model_selection import train_test_split, cross_val_score, GridSearchCV\n",
    "from sklearn.metrics import confusion_matrix, accuracy_score, precision_score, recall_score, f1_score\n",
    "from sklearn.ensemble import BaggingClassifier\n",
    "from sklearn.ensemble import RandomForestClassifier, ExtraTreesClassifier"
   ]
  },
  {
   "cell_type": "code",
   "execution_count": 2,
   "id": "dabfbd37",
   "metadata": {},
   "outputs": [],
   "source": [
    "def apr(y_real, y_pred):\n",
    "    accuracy = accuracy_score(y_real, y_pred)\n",
    "    precision = precision_score(y_real, y_pred)\n",
    "    recall = recall_score(y_real, y_pred)\n",
    "    f1 = f1_score(y_real, y_pred)\n",
    "    \n",
    "    print(f\"Accuracy:{accuracy}\")\n",
    "    print(f\"Precision:{precision}\")\n",
    "    print(f\"Recall:{recall}\")\n",
    "    print(f\"F1:{f1}\")\n",
    "    return accuracy, precision, recall, f1"
   ]
  },
  {
   "cell_type": "code",
   "execution_count": 3,
   "id": "7da72ce5",
   "metadata": {},
   "outputs": [],
   "source": [
    "## accuracy, precision, recall, f1 score\n",
    "\n",
    "def apr(y_pred, y_real):\n",
    "    accuracy = metrics.accuracy_score(y_real, y_pred)\n",
    "    precision = metrics.precision_score(y_real, y_pred)\n",
    "    recall = metrics.recall_score(y_real, y_pred)\n",
    "    f1 = metrics.f1_score(y_real, y_pred)\n",
    "    \n",
    "    print(f\"Accuracy:{accuracy}\")\n",
    "    print(f\"Precision:{precision}\")\n",
    "    print(f\"Recall:{recall}\")\n",
    "    print(f\"F1:{f1}\")\n",
    "    return accuracy, precision, recall, f1\n",
    "\n",
    "\n",
    "## confusion matrix\n",
    "\n",
    "def produce_confusion(positive_label, negative_label, cut_off, df, y_pred_name, y_real_name):\n",
    "    \n",
    "    #Set pred to 0 or 1 depending on whether it's higher than the cut_off point.\n",
    "    \n",
    "    if cut_off != 'binary':      \n",
    "        df['pred_binary'] = np.where(df[y_pred_name] > cut_off , 1, 0)\n",
    "    else: \n",
    "        df['pred_binary'] = df[y_pred_name]\n",
    "    \n",
    "    #Build the CM\n",
    "    cm = confusion_matrix(df[y_real_name], df['pred_binary'])  \n",
    "    \n",
    "    ax= plt.subplot()\n",
    "    sns.heatmap(cm, annot=True, ax=ax, fmt='g'); \n",
    "\n",
    "    # labels, title, ticks\n",
    "    ax.set_xlabel('Predicted labels');ax.set_ylabel('Real labels'); \n",
    "    ax.set_title('Confusion Matrix'); \n",
    "    ax.xaxis.set_ticklabels([negative_label, positive_label])\n",
    "    ax.yaxis.set_ticklabels([negative_label, positive_label]);\n",
    "\n",
    "    print('Test accuracy = ', accuracy_score(df[y_real_name], df['pred_binary']))\n",
    "    print('Test precision = ', precision_score(df[y_real_name], df['pred_binary']))\n",
    "    print('Test recall = ', recall_score(df[y_real_name], df['pred_binary']))\n",
    "    print('Test F1 score = ', f1_score(df[y_real_name], df['pred_binary']))\n",
    "\n",
    "\n",
    "    #return accuracy_score(df[y_real_name], df['pred_binary'])"
   ]
  },
  {
   "cell_type": "code",
   "execution_count": 4,
   "id": "c36f1eed",
   "metadata": {},
   "outputs": [],
   "source": [
    "df = pd.read_csv('oasis_longitudinal.csv')"
   ]
  },
  {
   "cell_type": "code",
   "execution_count": 38,
   "id": "bf7acf26",
   "metadata": {},
   "outputs": [],
   "source": [
    "df2 = df.copy()"
   ]
  },
  {
   "cell_type": "code",
   "execution_count": 39,
   "id": "ea6e9bf8",
   "metadata": {},
   "outputs": [],
   "source": [
    "df2.dropna(inplace = True)"
   ]
  },
  {
   "cell_type": "code",
   "execution_count": 40,
   "id": "0f4f79a5",
   "metadata": {},
   "outputs": [],
   "source": [
    "df2 = df2.drop_duplicates(subset = \"Subject ID\",\n",
    "                     keep = 'first')"
   ]
  },
  {
   "cell_type": "code",
   "execution_count": 42,
   "id": "0959a054",
   "metadata": {},
   "outputs": [],
   "source": [
    "df2['Group'].replace({\"Converted\":\"Demented\"}, inplace= True) #converting Converted to Demented\n"
   ]
  },
  {
   "cell_type": "code",
   "execution_count": 57,
   "id": "0bd0d326",
   "metadata": {},
   "outputs": [],
   "source": [
    "df2['Group'] = df2['Group'].replace([0,1], ['NonDemented','Demented'])"
   ]
  },
  {
   "cell_type": "code",
   "execution_count": 58,
   "id": "7e9260c5",
   "metadata": {},
   "outputs": [
    {
     "data": {
      "text/html": [
       "<div>\n",
       "<style scoped>\n",
       "    .dataframe tbody tr th:only-of-type {\n",
       "        vertical-align: middle;\n",
       "    }\n",
       "\n",
       "    .dataframe tbody tr th {\n",
       "        vertical-align: top;\n",
       "    }\n",
       "\n",
       "    .dataframe thead th {\n",
       "        text-align: right;\n",
       "    }\n",
       "</style>\n",
       "<table border=\"1\" class=\"dataframe\">\n",
       "  <thead>\n",
       "    <tr style=\"text-align: right;\">\n",
       "      <th></th>\n",
       "      <th>Subject ID</th>\n",
       "      <th>MRI ID</th>\n",
       "      <th>Group</th>\n",
       "      <th>Visit</th>\n",
       "      <th>MR Delay</th>\n",
       "      <th>M/F</th>\n",
       "      <th>Hand</th>\n",
       "      <th>Age</th>\n",
       "      <th>EDUC</th>\n",
       "      <th>SES</th>\n",
       "      <th>MMSE</th>\n",
       "      <th>CDR</th>\n",
       "      <th>eTIV</th>\n",
       "      <th>nWBV</th>\n",
       "      <th>ASF</th>\n",
       "    </tr>\n",
       "  </thead>\n",
       "  <tbody>\n",
       "    <tr>\n",
       "      <th>0</th>\n",
       "      <td>OAS2_0001</td>\n",
       "      <td>OAS2_0001_MR1</td>\n",
       "      <td>NonDemented</td>\n",
       "      <td>1</td>\n",
       "      <td>0</td>\n",
       "      <td>M</td>\n",
       "      <td>R</td>\n",
       "      <td>87</td>\n",
       "      <td>14</td>\n",
       "      <td>2.0</td>\n",
       "      <td>27.0</td>\n",
       "      <td>0.0</td>\n",
       "      <td>1987</td>\n",
       "      <td>0.696</td>\n",
       "      <td>0.883</td>\n",
       "    </tr>\n",
       "    <tr>\n",
       "      <th>5</th>\n",
       "      <td>OAS2_0004</td>\n",
       "      <td>OAS2_0004_MR1</td>\n",
       "      <td>NonDemented</td>\n",
       "      <td>1</td>\n",
       "      <td>0</td>\n",
       "      <td>F</td>\n",
       "      <td>R</td>\n",
       "      <td>88</td>\n",
       "      <td>18</td>\n",
       "      <td>3.0</td>\n",
       "      <td>28.0</td>\n",
       "      <td>0.0</td>\n",
       "      <td>1215</td>\n",
       "      <td>0.710</td>\n",
       "      <td>1.444</td>\n",
       "    </tr>\n",
       "    <tr>\n",
       "      <th>7</th>\n",
       "      <td>OAS2_0005</td>\n",
       "      <td>OAS2_0005_MR1</td>\n",
       "      <td>NonDemented</td>\n",
       "      <td>1</td>\n",
       "      <td>0</td>\n",
       "      <td>M</td>\n",
       "      <td>R</td>\n",
       "      <td>80</td>\n",
       "      <td>12</td>\n",
       "      <td>4.0</td>\n",
       "      <td>28.0</td>\n",
       "      <td>0.0</td>\n",
       "      <td>1689</td>\n",
       "      <td>0.712</td>\n",
       "      <td>1.039</td>\n",
       "    </tr>\n",
       "    <tr>\n",
       "      <th>13</th>\n",
       "      <td>OAS2_0008</td>\n",
       "      <td>OAS2_0008_MR1</td>\n",
       "      <td>NonDemented</td>\n",
       "      <td>1</td>\n",
       "      <td>0</td>\n",
       "      <td>F</td>\n",
       "      <td>R</td>\n",
       "      <td>93</td>\n",
       "      <td>14</td>\n",
       "      <td>2.0</td>\n",
       "      <td>30.0</td>\n",
       "      <td>0.0</td>\n",
       "      <td>1272</td>\n",
       "      <td>0.698</td>\n",
       "      <td>1.380</td>\n",
       "    </tr>\n",
       "    <tr>\n",
       "      <th>15</th>\n",
       "      <td>OAS2_0009</td>\n",
       "      <td>OAS2_0009_MR1</td>\n",
       "      <td>Demented</td>\n",
       "      <td>1</td>\n",
       "      <td>0</td>\n",
       "      <td>M</td>\n",
       "      <td>R</td>\n",
       "      <td>68</td>\n",
       "      <td>12</td>\n",
       "      <td>2.0</td>\n",
       "      <td>27.0</td>\n",
       "      <td>0.5</td>\n",
       "      <td>1457</td>\n",
       "      <td>0.806</td>\n",
       "      <td>1.205</td>\n",
       "    </tr>\n",
       "  </tbody>\n",
       "</table>\n",
       "</div>"
      ],
      "text/plain": [
       "   Subject ID         MRI ID        Group  Visit  MR Delay M/F Hand  Age  \\\n",
       "0   OAS2_0001  OAS2_0001_MR1  NonDemented      1         0   M    R   87   \n",
       "5   OAS2_0004  OAS2_0004_MR1  NonDemented      1         0   F    R   88   \n",
       "7   OAS2_0005  OAS2_0005_MR1  NonDemented      1         0   M    R   80   \n",
       "13  OAS2_0008  OAS2_0008_MR1  NonDemented      1         0   F    R   93   \n",
       "15  OAS2_0009  OAS2_0009_MR1     Demented      1         0   M    R   68   \n",
       "\n",
       "    EDUC  SES  MMSE  CDR  eTIV   nWBV    ASF  \n",
       "0     14  2.0  27.0  0.0  1987  0.696  0.883  \n",
       "5     18  3.0  28.0  0.0  1215  0.710  1.444  \n",
       "7     12  4.0  28.0  0.0  1689  0.712  1.039  \n",
       "13    14  2.0  30.0  0.0  1272  0.698  1.380  \n",
       "15    12  2.0  27.0  0.5  1457  0.806  1.205  "
      ]
     },
     "execution_count": 58,
     "metadata": {},
     "output_type": "execute_result"
    }
   ],
   "source": [
    "df2.head()"
   ]
  },
  {
   "cell_type": "code",
   "execution_count": 59,
   "id": "72f5e497",
   "metadata": {},
   "outputs": [
    {
     "data": {
      "text/plain": [
       "(0.0, 0.16)"
      ]
     },
     "execution_count": 59,
     "metadata": {},
     "output_type": "execute_result"
    },
    {
     "data": {
      "image/png": "[encoded data removed]",
      "text/plain": [
       "<Figure size 756.25x216 with 1 Axes>"
      ]
     },
     "metadata": {
      "needs_background": "light"
     },
     "output_type": "display_data"
    }
   ],
   "source": [
    "facet= sns.FacetGrid(df2,hue=\"Group\", aspect=3)\n",
    "facet.map(sns.kdeplot,'EDUC',shade= True)\n",
    "facet.set(xlim=(df['EDUC'].min(), df['EDUC'].max()))\n",
    "facet.add_legend()\n",
    "plt.ylim(0, 0.16)"
   ]
  },
  {
   "cell_type": "code",
   "execution_count": 64,
   "id": "c53e85de",
   "metadata": {},
   "outputs": [
    {
     "data": {
      "text/plain": [
       "(0.0, 0.16)"
      ]
     },
     "execution_count": 64,
     "metadata": {},
     "output_type": "execute_result"
    },
    {
     "data": {
      "image/png": "[encoded data removed]",
      "text/plain": [
       "<Figure size 756.25x216 with 1 Axes>"
      ]
     },
     "metadata": {
      "needs_background": "light"
     },
     "output_type": "display_data"
    }
   ],
   "source": [
    "facet= sns.FacetGrid(df2,hue=\"Group\", aspect=3)\n",
    "facet.map(sns.kdeplot,'SES',shade= True)\n",
    "facet.set(xlim=(0, df['SES'].max()))\n",
    "facet.add_legend()\n",
    "plt.ylim(0, 0.16)"
   ]
  },
  {
   "cell_type": "code",
   "execution_count": 67,
   "id": "80dbc062",
   "metadata": {},
   "outputs": [
    {
     "data": {
      "text/plain": [
       "(0.6, 0.9)"
      ]
     },
     "execution_count": 67,
     "metadata": {},
     "output_type": "execute_result"
    },
    {
     "data": {
      "image/png": "[encoded data removed]",
      "text/plain": [
       "<Figure size 756.25x216 with 1 Axes>"
      ]
     },
     "metadata": {
      "needs_background": "light"
     },
     "output_type": "display_data"
    },
    {
     "data": {
      "image/png": "[encoded data removed]",
      "text/plain": [
       "<Figure size 756.25x216 with 1 Axes>"
      ]
     },
     "metadata": {
      "needs_background": "light"
     },
     "output_type": "display_data"
    }
   ],
   "source": [
    "# #bar_chart('ASF') = Atlas Scaling Factor\n",
    "# facet= sns.FacetGrid(df2,hue=\"Group\", aspect=3)\n",
    "# facet.map(sns.kdeplot,'ASF',shade= True)\n",
    "# facet.set(xlim=(0, df['ASF'].max()))\n",
    "# facet.add_legend()\n",
    "# plt.xlim(0.5, 2)\n",
    "\n",
    "#eTIV = Estimated Total Intracranial Volume\n",
    "facet= sns.FacetGrid(df2,hue=\"Group\", aspect=3)\n",
    "facet.map(sns.kdeplot,'eTIV',shade= True)\n",
    "facet.set(xlim=(0, df['eTIV'].max()))\n",
    "facet.add_legend()\n",
    "plt.xlim(900, 2100)\n",
    "\n",
    "#'nWBV' = Normalized Whole Brain Volume\n",
    "# Nondemented = 0, Demented =1\n",
    "facet = sns.FacetGrid(df2,hue=\"Group\", aspect=3)\n",
    "facet.map(sns.kdeplot,'nWBV',shade= True)\n",
    "facet.set(xlim=(0, df['nWBV'].max()))\n",
    "facet.add_legend()\n",
    "plt.xlim(0.6,0.9)\n",
    "\n"
   ]
  },
  {
   "cell_type": "code",
   "execution_count": 69,
   "id": "c317c99d",
   "metadata": {},
   "outputs": [
    {
     "data": {
      "text/plain": [
       "(50.0, 100.0)"
      ]
     },
     "execution_count": 69,
     "metadata": {},
     "output_type": "execute_result"
    },
    {
     "data": {
      "image/png": "[encoded data removed]",
      "text/plain": [
       "<Figure size 756.25x216 with 1 Axes>"
      ]
     },
     "metadata": {
      "needs_background": "light"
     },
     "output_type": "display_data"
    }
   ],
   "source": [
    "#AGE. Nondemented =0, Demented =0\n",
    "facet= sns.FacetGrid(df2,hue=\"Group\", aspect=3)\n",
    "facet.map(sns.kdeplot,'Age',shade= True)\n",
    "facet.set(xlim=(0, df2['Age'].max()))\n",
    "facet.add_legend()\n",
    "plt.xlim(50,100)"
   ]
  },
  {
   "cell_type": "code",
   "execution_count": 73,
   "id": "137113d0",
   "metadata": {},
   "outputs": [
    {
     "data": {
      "text/plain": [
       "<seaborn.axisgrid.FacetGrid at 0x1bf3c8810a0>"
      ]
     },
     "execution_count": 73,
     "metadata": {},
     "output_type": "execute_result"
    },
    {
     "data": {
      "image/png": "[encoded data removed]",
      "text/plain": [
       "<Figure size 756.25x216 with 1 Axes>"
      ]
     },
     "metadata": {
      "needs_background": "light"
     },
     "output_type": "display_data"
    }
   ],
   "source": [
    "facet= sns.FacetGrid(df2,hue=\"Group\", aspect=3)\n",
    "facet.map(sns.kdeplot,'SES',shade= True)\n",
    "# facet.set(xlim=(0, df2['SES'].max()))\n",
    "facet.add_legend()\n",
    "#plt.xlim(50,100)"
   ]
  },
  {
   "cell_type": "code",
   "execution_count": null,
   "id": "b0ed0571",
   "metadata": {},
   "outputs": [],
   "source": [
    "sns.distplot(subset['arr_delay'], hist = False, kde = True,\n",
    "                 kde_kws = {'shade': True, 'linewidth': 3}, \n",
    "                  label = airline)"
   ]
  },
  {
   "cell_type": "code",
   "execution_count": 5,
   "id": "241f5195",
   "metadata": {},
   "outputs": [],
   "source": [
    "data = df.copy()"
   ]
  },
  {
   "cell_type": "code",
   "execution_count": 6,
   "id": "2cc460c4",
   "metadata": {},
   "outputs": [],
   "source": [
    "# data.drop(columns = ['SES'], inplace = True)"
   ]
  },
  {
   "cell_type": "code",
   "execution_count": 7,
   "id": "bad4aa6e",
   "metadata": {},
   "outputs": [],
   "source": [
    "data.dropna(inplace = True)"
   ]
  },
  {
   "cell_type": "code",
   "execution_count": 8,
   "id": "d3923481",
   "metadata": {},
   "outputs": [
    {
     "data": {
      "text/plain": [
       "Subject ID    0\n",
       "MRI ID        0\n",
       "Group         0\n",
       "Visit         0\n",
       "MR Delay      0\n",
       "M/F           0\n",
       "Hand          0\n",
       "Age           0\n",
       "EDUC          0\n",
       "SES           0\n",
       "MMSE          0\n",
       "CDR           0\n",
       "eTIV          0\n",
       "nWBV          0\n",
       "ASF           0\n",
       "dtype: int64"
      ]
     },
     "execution_count": 8,
     "metadata": {},
     "output_type": "execute_result"
    }
   ],
   "source": [
    "data.isnull().sum()"
   ]
  },
  {
   "cell_type": "code",
   "execution_count": 9,
   "id": "b9b493f0",
   "metadata": {},
   "outputs": [
    {
     "name": "stdout",
     "output_type": "stream",
     "text": [
      "(142, 15)\n",
      "(142, 15)\n"
     ]
    }
   ],
   "source": [
    "#Creating 2 dataframes\n",
    "\n",
    "data1 = data.drop_duplicates(subset = \"Subject ID\",\n",
    "                     keep = 'first')\n",
    "print(data1.shape)\n",
    " \n",
    "data2 = data.drop(data[data['Visit'] == 1].index)\n",
    "data2.drop_duplicates(subset = \"Subject ID\",\n",
    "                     keep = 'first',\n",
    "                     inplace = True)\n",
    "print(data2.shape)"
   ]
  },
  {
   "cell_type": "code",
   "execution_count": 10,
   "id": "58db5f89",
   "metadata": {},
   "outputs": [],
   "source": [
    "data2.columns = ['Subject ID', 'MRI ID', 'Group', 'Visit 2',  'MR Delay 2', 'M/F', 'Hand', 'Age 2', 'EDUC 2','SES 2', 'MMSE 2', 'CDR 2',\n",
    "                'eTIV 2', 'nWBV 2', 'ASF 2']"
   ]
  },
  {
   "cell_type": "code",
   "execution_count": 11,
   "id": "bd744491",
   "metadata": {},
   "outputs": [],
   "source": [
    "#merging 2 dataframes\n",
    "data3 = pd.merge(data1,data2,on='Subject ID')"
   ]
  },
  {
   "cell_type": "code",
   "execution_count": 12,
   "id": "bf559d2e",
   "metadata": {},
   "outputs": [],
   "source": [
    "data3['MMSE minus'] = data3['MMSE 2'] - data3['MMSE']\n",
    "data3['EDUC minus'] = data3['EDUC 2'] - data3['EDUC']\n",
    "data3['SES minus'] = data3['SES 2'] - data3['SES']\n",
    "data3['CDR minus'] = data3['CDR 2'] - data3['CDR']\n",
    "data3['eTIV minus'] = data3['eTIV 2'] - data3['eTIV']\n",
    "data3['ASF minus'] = data3['ASF 2'] - data3['ASF']\n",
    "data3['Age minus'] = data3['Age 2'] - data3['Age']\n",
    "data3['nWBV minus'] = data3['nWBV 2'] - data3['nWBV']\n",
    "data3['MR Delay minus'] = data3['MR Delay 2'] - data3['MR Delay']\n",
    "data3['Visit minus'] = data3['Visit 2'] - data3['Visit']"
   ]
  },
  {
   "cell_type": "code",
   "execution_count": 13,
   "id": "2134a851",
   "metadata": {},
   "outputs": [],
   "source": [
    "feature_columns =  [  'Group_x',  'M/F_x',\n",
    "       'MMSE 2', 'EDUC',  'SES', 'CDR 2',  'Age 2',\n",
    "       'eTIV minus', 'ASF minus', 'nWBV minus', 'MR Delay minus'\n",
    "       ]\n",
    "\n",
    "\n",
    "data4 = data3[feature_columns]"
   ]
  },
  {
   "cell_type": "code",
   "execution_count": null,
   "id": "08126221",
   "metadata": {},
   "outputs": [],
   "source": []
  },
  {
   "cell_type": "code",
   "execution_count": 14,
   "id": "f665c49e",
   "metadata": {},
   "outputs": [],
   "source": [
    "data5 = data4.copy()"
   ]
  },
  {
   "cell_type": "code",
   "execution_count": 33,
   "id": "ebc7dedf",
   "metadata": {},
   "outputs": [],
   "source": [
    "save_data = data3.copy()\n",
    "save_data['Group_x'].replace({\"Converted\":\"Demented\"}, inplace= True) #converting Converted to Demented\n"
   ]
  },
  {
   "cell_type": "code",
   "execution_count": 36,
   "id": "86b2b58d",
   "metadata": {},
   "outputs": [],
   "source": [
    "save_data.to_csv('MRI Alzheimer tableau 2.csv')"
   ]
  },
  {
   "cell_type": "code",
   "execution_count": null,
   "id": "919817f6",
   "metadata": {},
   "outputs": [],
   "source": []
  },
  {
   "cell_type": "code",
   "execution_count": 37,
   "id": "1b0df5c6",
   "metadata": {},
   "outputs": [
    {
     "data": {
      "text/plain": [
       "Index(['Subject ID', 'MRI ID_x', 'Group_x', 'Visit', 'MR Delay', 'M/F_x',\n",
       "       'Hand_x', 'Age', 'EDUC', 'SES', 'MMSE', 'CDR', 'eTIV', 'nWBV', 'ASF',\n",
       "       'MRI ID_y', 'Group_y', 'Visit 2', 'MR Delay 2', 'M/F_y', 'Hand_y',\n",
       "       'Age 2', 'EDUC 2', 'SES 2', 'MMSE 2', 'CDR 2', 'eTIV 2', 'nWBV 2',\n",
       "       'ASF 2', 'MMSE minus', 'EDUC minus', 'SES minus', 'CDR minus',\n",
       "       'eTIV minus', 'ASF minus', 'Age minus', 'nWBV minus', 'MR Delay minus',\n",
       "       'Visit minus'],\n",
       "      dtype='object')"
      ]
     },
     "execution_count": 37,
     "metadata": {},
     "output_type": "execute_result"
    }
   ],
   "source": [
    "save_data.columns"
   ]
  },
  {
   "cell_type": "code",
   "execution_count": 15,
   "id": "8f005405",
   "metadata": {},
   "outputs": [],
   "source": [
    "\n",
    "data5['Group_x'].replace({\"Converted\":\"Demented\"}, inplace= True) #converting Converted to Demented\n",
    "\n",
    "\n",
    "#One hoc encoding!\n",
    "data5['Group_x'] = data5['Group_x'].replace(['Nondemented','Demented'], [0,1]) #1 hoc encoding ND and D\n",
    "data5 = pd.get_dummies(data5, prefix = 'Gender', columns=['M/F_x'], drop_first=True) # 1 hoc encdoing M/F"
   ]
  },
  {
   "cell_type": "code",
   "execution_count": 16,
   "id": "c50210c5",
   "metadata": {},
   "outputs": [],
   "source": [
    "feature_cols2 =  ['MMSE 2', \n",
    "                  'EDUC', \n",
    "                  'SES', \n",
    "                  #'CDR 2',\n",
    "                  'Age 2',\n",
    "                  'eTIV minus',\n",
    "                  'nWBV minus', \n",
    "                  #'MR Delay minus',\n",
    "                  'Gender_M']"
   ]
  },
  {
   "cell_type": "code",
   "execution_count": 17,
   "id": "ee1404ef",
   "metadata": {},
   "outputs": [],
   "source": [
    "X = data5[feature_cols2]\n",
    "y = data5['Group_x']"
   ]
  },
  {
   "cell_type": "code",
   "execution_count": 74,
   "id": "4d1cadb6",
   "metadata": {},
   "outputs": [],
   "source": [
    "#Train, Test Split\n",
    "X_train, X_test, y_train, y_test = train_test_split(X, y, train_size = 0.8, test_size = 0.2, random_state = 15, stratify=y)\n"
   ]
  },
  {
   "cell_type": "code",
   "execution_count": 75,
   "id": "142509a5",
   "metadata": {},
   "outputs": [],
   "source": [
    "X_train_eng = X_train.copy()\n",
    "X_test_eng = X_test.copy()"
   ]
  },
  {
   "cell_type": "markdown",
   "id": "937109fe",
   "metadata": {},
   "source": [
    "Random Forest"
   ]
  },
  {
   "cell_type": "code",
   "execution_count": 76,
   "id": "161abe63",
   "metadata": {},
   "outputs": [],
   "source": [
    "#creating empty classifiers\n",
    "rf = RandomForestClassifier(n_estimators=200, max_depth = 10)\n",
    "et = ExtraTreesClassifier(n_estimators=200, max_depth = 10)"
   ]
  },
  {
   "cell_type": "code",
   "execution_count": 77,
   "id": "da89ced0",
   "metadata": {},
   "outputs": [],
   "source": [
    "Cross validation?\n",
    "\n",
    "\n",
    "#classfication scores\n",
    "rf_score = cross_val_score(rf, X_train_eng, y_train, cv=5).mean()\n",
    "et_score = cross_val_score(et, X_train_eng, y_train, cv=5).mean()"
   ]
  },
  {
   "cell_type": "code",
   "execution_count": 78,
   "id": "c92d21cd",
   "metadata": {},
   "outputs": [
    {
     "name": "stdout",
     "output_type": "stream",
     "text": [
      "Random scored 0.6893280632411066\n",
      "Extra Random scored 0.6549407114624506\n"
     ]
    }
   ],
   "source": [
    "\n",
    "\n",
    "\n",
    "print(f'Random scored {rf_score}')\n",
    "print(f'Extra Random scored {et_score}')"
   ]
  },
  {
   "cell_type": "code",
   "execution_count": 79,
   "id": "b04befe5",
   "metadata": {},
   "outputs": [],
   "source": [
    "#creating empty GridSearch \n",
    "rf_params = {\n",
    "    'n_estimators': [50, 100, 150, 200, 250, 300],\n",
    "    'max_depth': [5, 6, 7, 8, 9, 10],\n",
    "}\n",
    "if rf_score > et_score:\n",
    "    gs = GridSearchCV(rf, param_grid=rf_params, cv=5)  \n",
    "else:\n",
    "    gs = GridSearchCV(et, param_grid=rf_params, cv=5)"
   ]
  },
  {
   "cell_type": "code",
   "execution_count": 80,
   "id": "b9ce60b2",
   "metadata": {},
   "outputs": [
    {
     "name": "stdout",
     "output_type": "stream",
     "text": [
      "0.742292490118577\n"
     ]
    },
    {
     "data": {
      "text/plain": [
       "{'max_depth': 5, 'n_estimators': 50}"
      ]
     },
     "execution_count": 80,
     "metadata": {},
     "output_type": "execute_result"
    }
   ],
   "source": [
    "#fitting and identification of best classifier\n",
    "gs.fit(X_train_eng, y_train)\n",
    "\n",
    "print(gs.best_score_)\n",
    "\n",
    "gs.best_params_"
   ]
  },
  {
   "cell_type": "code",
   "execution_count": 81,
   "id": "4432c0ce",
   "metadata": {},
   "outputs": [
    {
     "data": {
      "text/plain": [
       "0.9911504424778761"
      ]
     },
     "execution_count": 81,
     "metadata": {},
     "output_type": "execute_result"
    }
   ],
   "source": [
    "#classfier score\n",
    "gs.score(X_train_eng, y_train)"
   ]
  },
  {
   "cell_type": "code",
   "execution_count": 82,
   "id": "c91be56b",
   "metadata": {},
   "outputs": [
    {
     "name": "stdout",
     "output_type": "stream",
     "text": [
      "Accuracy:0.9911504424778761\n",
      "Precision:1.0\n",
      "Recall:0.9821428571428571\n",
      "F1:0.9909909909909909\n"
     ]
    },
    {
     "data": {
      "text/plain": [
       "(0.9911504424778761, 1.0, 0.9821428571428571, 0.9909909909909909)"
      ]
     },
     "execution_count": 82,
     "metadata": {},
     "output_type": "execute_result"
    }
   ],
   "source": [
    "## Predict on Train\n",
    "X_train_eng['pred'] = gs.predict(X_train_eng)\n",
    "X_train_eng\n",
    "\n",
    "## Check Accuracy, Precision, Recall & F1\n",
    "apr(X_train_eng['pred'], y_train)"
   ]
  },
  {
   "cell_type": "code",
   "execution_count": 83,
   "id": "68713a1e",
   "metadata": {},
   "outputs": [
    {
     "name": "stdout",
     "output_type": "stream",
     "text": [
      "Accuracy:0.7586206896551724\n",
      "Precision:0.8181818181818182\n",
      "Recall:0.6428571428571429\n",
      "F1:0.7200000000000001\n"
     ]
    },
    {
     "data": {
      "text/plain": [
       "(0.7586206896551724,\n",
       " 0.8181818181818182,\n",
       " 0.6428571428571429,\n",
       " 0.7200000000000001)"
      ]
     },
     "execution_count": 83,
     "metadata": {},
     "output_type": "execute_result"
    }
   ],
   "source": [
    "## Predict on Test\n",
    "y_pred_test = gs.predict(X_test_eng)\n",
    "X_test_eng['pred'] = y_pred_test\n",
    "X_test_eng\n",
    "\n",
    "## Check Accuracy, Precision, Recall & F1\n",
    "apr(X_test_eng['pred'], y_test)"
   ]
  },
  {
   "cell_type": "code",
   "execution_count": 84,
   "id": "a2b9148c",
   "metadata": {},
   "outputs": [
    {
     "name": "stdout",
     "output_type": "stream",
     "text": [
      "Accuracy:0.9911504424778761\n",
      "Precision:1.0\n",
      "Recall:0.9821428571428571\n",
      "F1:0.9909909909909909\n"
     ]
    },
    {
     "data": {
      "text/plain": [
       "(0.9911504424778761, 1.0, 0.9821428571428571, 0.9909909909909909)"
      ]
     },
     "execution_count": 84,
     "metadata": {},
     "output_type": "execute_result"
    }
   ],
   "source": [
    "apr(X_train_eng['pred'], y_train)"
   ]
  },
  {
   "cell_type": "code",
   "execution_count": 85,
   "id": "6aa0cd0f",
   "metadata": {},
   "outputs": [
    {
     "data": {
      "text/html": [
       "<div>\n",
       "<style scoped>\n",
       "    .dataframe tbody tr th:only-of-type {\n",
       "        vertical-align: middle;\n",
       "    }\n",
       "\n",
       "    .dataframe tbody tr th {\n",
       "        vertical-align: top;\n",
       "    }\n",
       "\n",
       "    .dataframe thead th {\n",
       "        text-align: right;\n",
       "    }\n",
       "</style>\n",
       "<table border=\"1\" class=\"dataframe\">\n",
       "  <thead>\n",
       "    <tr style=\"text-align: right;\">\n",
       "      <th></th>\n",
       "      <th>MMSE 2</th>\n",
       "      <th>EDUC</th>\n",
       "      <th>SES</th>\n",
       "      <th>Age 2</th>\n",
       "      <th>eTIV minus</th>\n",
       "      <th>nWBV minus</th>\n",
       "      <th>Gender_M</th>\n",
       "      <th>pred</th>\n",
       "      <th>Group_x</th>\n",
       "    </tr>\n",
       "  </thead>\n",
       "  <tbody>\n",
       "    <tr>\n",
       "      <th>74</th>\n",
       "      <td>29.0</td>\n",
       "      <td>18</td>\n",
       "      <td>1.0</td>\n",
       "      <td>72</td>\n",
       "      <td>16</td>\n",
       "      <td>-0.012</td>\n",
       "      <td>1</td>\n",
       "      <td>0</td>\n",
       "      <td>0</td>\n",
       "    </tr>\n",
       "    <tr>\n",
       "      <th>137</th>\n",
       "      <td>26.0</td>\n",
       "      <td>20</td>\n",
       "      <td>1.0</td>\n",
       "      <td>81</td>\n",
       "      <td>8</td>\n",
       "      <td>-0.020</td>\n",
       "      <td>1</td>\n",
       "      <td>1</td>\n",
       "      <td>1</td>\n",
       "    </tr>\n",
       "    <tr>\n",
       "      <th>37</th>\n",
       "      <td>30.0</td>\n",
       "      <td>16</td>\n",
       "      <td>3.0</td>\n",
       "      <td>70</td>\n",
       "      <td>14</td>\n",
       "      <td>-0.003</td>\n",
       "      <td>0</td>\n",
       "      <td>0</td>\n",
       "      <td>0</td>\n",
       "    </tr>\n",
       "    <tr>\n",
       "      <th>38</th>\n",
       "      <td>17.0</td>\n",
       "      <td>12</td>\n",
       "      <td>4.0</td>\n",
       "      <td>72</td>\n",
       "      <td>22</td>\n",
       "      <td>-0.029</td>\n",
       "      <td>1</td>\n",
       "      <td>1</td>\n",
       "      <td>1</td>\n",
       "    </tr>\n",
       "    <tr>\n",
       "      <th>7</th>\n",
       "      <td>30.0</td>\n",
       "      <td>12</td>\n",
       "      <td>4.0</td>\n",
       "      <td>82</td>\n",
       "      <td>-18</td>\n",
       "      <td>0.005</td>\n",
       "      <td>0</td>\n",
       "      <td>0</td>\n",
       "      <td>0</td>\n",
       "    </tr>\n",
       "    <tr>\n",
       "      <th>62</th>\n",
       "      <td>16.0</td>\n",
       "      <td>12</td>\n",
       "      <td>4.0</td>\n",
       "      <td>71</td>\n",
       "      <td>45</td>\n",
       "      <td>-0.034</td>\n",
       "      <td>0</td>\n",
       "      <td>1</td>\n",
       "      <td>1</td>\n",
       "    </tr>\n",
       "    <tr>\n",
       "      <th>33</th>\n",
       "      <td>29.0</td>\n",
       "      <td>18</td>\n",
       "      <td>1.0</td>\n",
       "      <td>77</td>\n",
       "      <td>5</td>\n",
       "      <td>-0.006</td>\n",
       "      <td>0</td>\n",
       "      <td>0</td>\n",
       "      <td>0</td>\n",
       "    </tr>\n",
       "    <tr>\n",
       "      <th>109</th>\n",
       "      <td>27.0</td>\n",
       "      <td>16</td>\n",
       "      <td>3.0</td>\n",
       "      <td>78</td>\n",
       "      <td>2</td>\n",
       "      <td>-0.015</td>\n",
       "      <td>0</td>\n",
       "      <td>0</td>\n",
       "      <td>1</td>\n",
       "    </tr>\n",
       "    <tr>\n",
       "      <th>82</th>\n",
       "      <td>17.0</td>\n",
       "      <td>16</td>\n",
       "      <td>1.0</td>\n",
       "      <td>71</td>\n",
       "      <td>-6</td>\n",
       "      <td>-0.011</td>\n",
       "      <td>1</td>\n",
       "      <td>1</td>\n",
       "      <td>1</td>\n",
       "    </tr>\n",
       "    <tr>\n",
       "      <th>0</th>\n",
       "      <td>30.0</td>\n",
       "      <td>14</td>\n",
       "      <td>2.0</td>\n",
       "      <td>88</td>\n",
       "      <td>17</td>\n",
       "      <td>-0.015</td>\n",
       "      <td>1</td>\n",
       "      <td>1</td>\n",
       "      <td>0</td>\n",
       "    </tr>\n",
       "    <tr>\n",
       "      <th>93</th>\n",
       "      <td>29.0</td>\n",
       "      <td>15</td>\n",
       "      <td>2.0</td>\n",
       "      <td>83</td>\n",
       "      <td>-4</td>\n",
       "      <td>-0.003</td>\n",
       "      <td>0</td>\n",
       "      <td>0</td>\n",
       "      <td>0</td>\n",
       "    </tr>\n",
       "    <tr>\n",
       "      <th>134</th>\n",
       "      <td>30.0</td>\n",
       "      <td>16</td>\n",
       "      <td>2.0</td>\n",
       "      <td>87</td>\n",
       "      <td>-6</td>\n",
       "      <td>-0.014</td>\n",
       "      <td>1</td>\n",
       "      <td>1</td>\n",
       "      <td>1</td>\n",
       "    </tr>\n",
       "    <tr>\n",
       "      <th>54</th>\n",
       "      <td>30.0</td>\n",
       "      <td>18</td>\n",
       "      <td>2.0</td>\n",
       "      <td>82</td>\n",
       "      <td>1</td>\n",
       "      <td>0.003</td>\n",
       "      <td>0</td>\n",
       "      <td>0</td>\n",
       "      <td>0</td>\n",
       "    </tr>\n",
       "    <tr>\n",
       "      <th>18</th>\n",
       "      <td>21.0</td>\n",
       "      <td>18</td>\n",
       "      <td>2.0</td>\n",
       "      <td>66</td>\n",
       "      <td>15</td>\n",
       "      <td>-0.020</td>\n",
       "      <td>1</td>\n",
       "      <td>1</td>\n",
       "      <td>1</td>\n",
       "    </tr>\n",
       "    <tr>\n",
       "      <th>114</th>\n",
       "      <td>29.0</td>\n",
       "      <td>16</td>\n",
       "      <td>3.0</td>\n",
       "      <td>73</td>\n",
       "      <td>-11</td>\n",
       "      <td>-0.028</td>\n",
       "      <td>0</td>\n",
       "      <td>0</td>\n",
       "      <td>1</td>\n",
       "    </tr>\n",
       "    <tr>\n",
       "      <th>4</th>\n",
       "      <td>24.0</td>\n",
       "      <td>12</td>\n",
       "      <td>2.0</td>\n",
       "      <td>69</td>\n",
       "      <td>23</td>\n",
       "      <td>-0.015</td>\n",
       "      <td>1</td>\n",
       "      <td>1</td>\n",
       "      <td>1</td>\n",
       "    </tr>\n",
       "    <tr>\n",
       "      <th>20</th>\n",
       "      <td>30.0</td>\n",
       "      <td>18</td>\n",
       "      <td>1.0</td>\n",
       "      <td>62</td>\n",
       "      <td>-10</td>\n",
       "      <td>-0.005</td>\n",
       "      <td>0</td>\n",
       "      <td>0</td>\n",
       "      <td>0</td>\n",
       "    </tr>\n",
       "    <tr>\n",
       "      <th>45</th>\n",
       "      <td>29.0</td>\n",
       "      <td>12</td>\n",
       "      <td>2.0</td>\n",
       "      <td>83</td>\n",
       "      <td>-30</td>\n",
       "      <td>0.002</td>\n",
       "      <td>0</td>\n",
       "      <td>0</td>\n",
       "      <td>0</td>\n",
       "    </tr>\n",
       "    <tr>\n",
       "      <th>24</th>\n",
       "      <td>27.0</td>\n",
       "      <td>12</td>\n",
       "      <td>4.0</td>\n",
       "      <td>89</td>\n",
       "      <td>-7</td>\n",
       "      <td>-0.005</td>\n",
       "      <td>0</td>\n",
       "      <td>1</td>\n",
       "      <td>0</td>\n",
       "    </tr>\n",
       "    <tr>\n",
       "      <th>11</th>\n",
       "      <td>29.0</td>\n",
       "      <td>14</td>\n",
       "      <td>1.0</td>\n",
       "      <td>88</td>\n",
       "      <td>-8</td>\n",
       "      <td>-0.002</td>\n",
       "      <td>0</td>\n",
       "      <td>0</td>\n",
       "      <td>1</td>\n",
       "    </tr>\n",
       "    <tr>\n",
       "      <th>6</th>\n",
       "      <td>29.0</td>\n",
       "      <td>16</td>\n",
       "      <td>2.0</td>\n",
       "      <td>80</td>\n",
       "      <td>-10</td>\n",
       "      <td>-0.010</td>\n",
       "      <td>0</td>\n",
       "      <td>0</td>\n",
       "      <td>0</td>\n",
       "    </tr>\n",
       "    <tr>\n",
       "      <th>76</th>\n",
       "      <td>30.0</td>\n",
       "      <td>16</td>\n",
       "      <td>2.0</td>\n",
       "      <td>77</td>\n",
       "      <td>17</td>\n",
       "      <td>-0.020</td>\n",
       "      <td>1</td>\n",
       "      <td>0</td>\n",
       "      <td>0</td>\n",
       "    </tr>\n",
       "    <tr>\n",
       "      <th>99</th>\n",
       "      <td>29.0</td>\n",
       "      <td>18</td>\n",
       "      <td>1.0</td>\n",
       "      <td>81</td>\n",
       "      <td>10</td>\n",
       "      <td>-0.009</td>\n",
       "      <td>1</td>\n",
       "      <td>0</td>\n",
       "      <td>1</td>\n",
       "    </tr>\n",
       "    <tr>\n",
       "      <th>77</th>\n",
       "      <td>28.0</td>\n",
       "      <td>12</td>\n",
       "      <td>4.0</td>\n",
       "      <td>67</td>\n",
       "      <td>-34</td>\n",
       "      <td>0.003</td>\n",
       "      <td>1</td>\n",
       "      <td>0</td>\n",
       "      <td>1</td>\n",
       "    </tr>\n",
       "    <tr>\n",
       "      <th>53</th>\n",
       "      <td>29.0</td>\n",
       "      <td>12</td>\n",
       "      <td>3.0</td>\n",
       "      <td>90</td>\n",
       "      <td>47</td>\n",
       "      <td>-0.024</td>\n",
       "      <td>0</td>\n",
       "      <td>0</td>\n",
       "      <td>0</td>\n",
       "    </tr>\n",
       "    <tr>\n",
       "      <th>59</th>\n",
       "      <td>29.0</td>\n",
       "      <td>18</td>\n",
       "      <td>2.0</td>\n",
       "      <td>69</td>\n",
       "      <td>32</td>\n",
       "      <td>-0.006</td>\n",
       "      <td>0</td>\n",
       "      <td>0</td>\n",
       "      <td>0</td>\n",
       "    </tr>\n",
       "    <tr>\n",
       "      <th>68</th>\n",
       "      <td>20.0</td>\n",
       "      <td>12</td>\n",
       "      <td>4.0</td>\n",
       "      <td>80</td>\n",
       "      <td>17</td>\n",
       "      <td>-0.011</td>\n",
       "      <td>1</td>\n",
       "      <td>1</td>\n",
       "      <td>1</td>\n",
       "    </tr>\n",
       "    <tr>\n",
       "      <th>94</th>\n",
       "      <td>15.0</td>\n",
       "      <td>14</td>\n",
       "      <td>3.0</td>\n",
       "      <td>78</td>\n",
       "      <td>-8</td>\n",
       "      <td>-0.015</td>\n",
       "      <td>0</td>\n",
       "      <td>1</td>\n",
       "      <td>1</td>\n",
       "    </tr>\n",
       "    <tr>\n",
       "      <th>60</th>\n",
       "      <td>29.0</td>\n",
       "      <td>16</td>\n",
       "      <td>2.0</td>\n",
       "      <td>73</td>\n",
       "      <td>83</td>\n",
       "      <td>-0.015</td>\n",
       "      <td>1</td>\n",
       "      <td>0</td>\n",
       "      <td>0</td>\n",
       "    </tr>\n",
       "  </tbody>\n",
       "</table>\n",
       "</div>"
      ],
      "text/plain": [
       "     MMSE 2  EDUC  SES  Age 2  eTIV minus  nWBV minus  Gender_M  pred  Group_x\n",
       "74     29.0    18  1.0     72          16      -0.012         1     0        0\n",
       "137    26.0    20  1.0     81           8      -0.020         1     1        1\n",
       "37     30.0    16  3.0     70          14      -0.003         0     0        0\n",
       "38     17.0    12  4.0     72          22      -0.029         1     1        1\n",
       "7      30.0    12  4.0     82         -18       0.005         0     0        0\n",
       "62     16.0    12  4.0     71          45      -0.034         0     1        1\n",
       "33     29.0    18  1.0     77           5      -0.006         0     0        0\n",
       "109    27.0    16  3.0     78           2      -0.015         0     0        1\n",
       "82     17.0    16  1.0     71          -6      -0.011         1     1        1\n",
       "0      30.0    14  2.0     88          17      -0.015         1     1        0\n",
       "93     29.0    15  2.0     83          -4      -0.003         0     0        0\n",
       "134    30.0    16  2.0     87          -6      -0.014         1     1        1\n",
       "54     30.0    18  2.0     82           1       0.003         0     0        0\n",
       "18     21.0    18  2.0     66          15      -0.020         1     1        1\n",
       "114    29.0    16  3.0     73         -11      -0.028         0     0        1\n",
       "4      24.0    12  2.0     69          23      -0.015         1     1        1\n",
       "20     30.0    18  1.0     62         -10      -0.005         0     0        0\n",
       "45     29.0    12  2.0     83         -30       0.002         0     0        0\n",
       "24     27.0    12  4.0     89          -7      -0.005         0     1        0\n",
       "11     29.0    14  1.0     88          -8      -0.002         0     0        1\n",
       "6      29.0    16  2.0     80         -10      -0.010         0     0        0\n",
       "76     30.0    16  2.0     77          17      -0.020         1     0        0\n",
       "99     29.0    18  1.0     81          10      -0.009         1     0        1\n",
       "77     28.0    12  4.0     67         -34       0.003         1     0        1\n",
       "53     29.0    12  3.0     90          47      -0.024         0     0        0\n",
       "59     29.0    18  2.0     69          32      -0.006         0     0        0\n",
       "68     20.0    12  4.0     80          17      -0.011         1     1        1\n",
       "94     15.0    14  3.0     78          -8      -0.015         0     1        1\n",
       "60     29.0    16  2.0     73          83      -0.015         1     0        0"
      ]
     },
     "execution_count": 85,
     "metadata": {},
     "output_type": "execute_result"
    }
   ],
   "source": [
    "# preparing for the beautiful metrics function\n",
    "metric = X_test_eng.copy()\n",
    "metric = metric.join(y_test)\n",
    "metric"
   ]
  },
  {
   "cell_type": "code",
   "execution_count": 86,
   "id": "0f658df0",
   "metadata": {},
   "outputs": [
    {
     "name": "stdout",
     "output_type": "stream",
     "text": [
      "[[13  2]\n",
      " [ 5  9]]\n"
     ]
    }
   ],
   "source": [
    "#running the beautiful metrics function\n",
    "# produce_confusion('Stayed','Churned','binary',metric,'pred','Churn Value')\n",
    "\n",
    "from sklearn.metrics import confusion_matrix\n",
    "\n",
    "conf_mat = confusion_matrix(y_test, y_pred_test)\n",
    "print(conf_mat)"
   ]
  },
  {
   "cell_type": "code",
   "execution_count": null,
   "id": "090ff0a3",
   "metadata": {},
   "outputs": [],
   "source": [
    "make confusion matrix normalised!!"
   ]
  },
  {
   "cell_type": "code",
   "execution_count": null,
   "id": "677fd59e",
   "metadata": {},
   "outputs": [],
   "source": []
  }
 ],
 "metadata": {
  "kernelspec": {
   "display_name": "Python 3",
   "language": "python",
   "name": "python3"
  },
  "language_info": {
   "codemirror_mode": {
    "name": "ipython",
    "version": 3
   },
   "file_extension": ".py",
   "mimetype": "text/x-python",
   "name": "python",
   "nbconvert_exporter": "python",
   "pygments_lexer": "ipython3",
   "version": "3.8.8"
  }
 },
 "nbformat": 4,
 "nbformat_minor": 5
}
