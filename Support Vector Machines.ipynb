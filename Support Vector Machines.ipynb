{
 "cells": [
  {
   "cell_type": "code",
   "execution_count": 26,
   "id": "0d809895",
   "metadata": {},
   "outputs": [],
   "source": [
    "import seaborn as sns \n",
    "import matplotlib.pyplot as plt \n",
    "\n",
    "import pandas as pd \n",
    "import numpy as np \n",
    "import statsmodels.api as sm\n",
    "\n",
    "from sklearn.preprocessing import OneHotEncoder\n",
    "from sklearn.linear_model import LogisticRegression\n",
    "\n",
    "from sklearn.metrics import roc_auc_score\n",
    "from sklearn.metrics import roc_curve\n",
    "from sklearn import metrics\n",
    "\n",
    "from sklearn import datasets\n",
    "from sklearn.model_selection import train_test_split\n",
    "\n",
    "from sklearn.model_selection import GridSearchCV\n",
    "from sklearn.metrics import classification_report\n",
    "from sklearn.metrics import (accuracy_score, precision_score, recall_score, f1_score)\n",
    "\n",
    "#Scaler \n",
    "from sklearn.preprocessing import MinMaxScaler\n",
    "from sklearn.inspection import permutation_importance\n",
    "\n",
    "import os\n",
    "\n",
    "\n",
    "from sklearn.decomposition import PCA\n",
    "from sklearn.metrics import confusion_matrix\n",
    "from sklearn.metrics import plot_confusion_matrix\n",
    "from sklearn.svm import SVC\n"
   ]
  },
  {
   "cell_type": "code",
   "execution_count": 2,
   "id": "3411be69",
   "metadata": {},
   "outputs": [],
   "source": [
    "def apr(y_real, y_pred):\n",
    "    accuracy = accuracy_score(y_real, y_pred)\n",
    "    precision = precision_score(y_real, y_pred)\n",
    "    recall = recall_score(y_real, y_pred)\n",
    "    f1 = f1_score(y_real, y_pred)\n",
    "    \n",
    "    print(f\"Accuracy:{accuracy}\")\n",
    "    print(f\"Precision:{precision}\")\n",
    "    print(f\"Recall:{recall}\")\n",
    "    print(f\"F1:{f1}\")\n",
    "    return accuracy, precision, recall, f1"
   ]
  },
  {
   "cell_type": "code",
   "execution_count": 3,
   "id": "fa72a7fb",
   "metadata": {},
   "outputs": [],
   "source": [
    "df = pd.read_csv('oasis_longitudinal.csv')"
   ]
  },
  {
   "cell_type": "code",
   "execution_count": 121,
   "id": "02b47e42",
   "metadata": {},
   "outputs": [],
   "source": [
    "data = df.copy()"
   ]
  },
  {
   "cell_type": "code",
   "execution_count": 122,
   "id": "10dad074",
   "metadata": {},
   "outputs": [],
   "source": [
    "# data[\"SES\"].fillna(data.groupby(\"EDUC\")[\"SES\"].transform(\"median\"), inplace=True)"
   ]
  },
  {
   "cell_type": "code",
   "execution_count": 123,
   "id": "0974d09b",
   "metadata": {},
   "outputs": [],
   "source": [
    "# data.drop(columns = ['SES'], inplace = True)"
   ]
  },
  {
   "cell_type": "code",
   "execution_count": 124,
   "id": "7a815a11",
   "metadata": {},
   "outputs": [],
   "source": [
    "data.dropna(inplace = True)"
   ]
  },
  {
   "cell_type": "code",
   "execution_count": 125,
   "id": "225a140e",
   "metadata": {},
   "outputs": [
    {
     "data": {
      "text/plain": [
       "Subject ID    0\n",
       "MRI ID        0\n",
       "Group         0\n",
       "Visit         0\n",
       "MR Delay      0\n",
       "M/F           0\n",
       "Hand          0\n",
       "Age           0\n",
       "EDUC          0\n",
       "SES           0\n",
       "MMSE          0\n",
       "CDR           0\n",
       "eTIV          0\n",
       "nWBV          0\n",
       "ASF           0\n",
       "dtype: int64"
      ]
     },
     "execution_count": 125,
     "metadata": {},
     "output_type": "execute_result"
    }
   ],
   "source": [
    "data.isnull().sum()"
   ]
  },
  {
   "cell_type": "code",
   "execution_count": 126,
   "id": "bc4e7f91",
   "metadata": {},
   "outputs": [
    {
     "name": "stdout",
     "output_type": "stream",
     "text": [
      "(142, 15)\n",
      "(142, 15)\n"
     ]
    }
   ],
   "source": [
    "#Creating 2 dataframes\n",
    "\n",
    "data1 = data.drop_duplicates(subset = \"Subject ID\",\n",
    "                     keep = 'first')\n",
    "print(data1.shape)\n",
    " \n",
    "data2 = data.drop(data[data['Visit'] == 1].index)\n",
    "data2.drop_duplicates(subset = \"Subject ID\",\n",
    "                     keep = 'first',\n",
    "                     inplace = True)\n",
    "print(data2.shape)"
   ]
  },
  {
   "cell_type": "code",
   "execution_count": 127,
   "id": "d7ce54d9",
   "metadata": {},
   "outputs": [],
   "source": [
    "data2.columns = ['Subject ID', 'MRI ID', 'Group', 'Visit 2', 'MR Delay 2', 'M/F', 'Hand', 'Age 2', 'EDUC 2', 'SES 2', 'MMSE 2', 'CDR 2',\n",
    "                'eTIV 2', 'nWBV 2', 'ASF 2']"
   ]
  },
  {
   "cell_type": "code",
   "execution_count": 128,
   "id": "21832b06",
   "metadata": {},
   "outputs": [],
   "source": [
    "#merging 2 dataframes\n",
    "data3 = pd.merge(data1,data2,on='Subject ID')"
   ]
  },
  {
   "cell_type": "code",
   "execution_count": 129,
   "id": "04cc5309",
   "metadata": {},
   "outputs": [],
   "source": [
    "data3['MMSE minus'] = data3['MMSE 2'] - data3['MMSE']\n",
    "data3['EDUC minus'] = data3['EDUC 2'] - data3['EDUC']\n",
    "#data3['SES minus'] = data3['SES 2'] - data3['SES']\n",
    "data3['CDR minus'] = data3['CDR 2'] - data3['CDR']\n",
    "data3['eTIV minus'] = data3['eTIV 2'] - data3['eTIV']\n",
    "data3['ASF minus'] = data3['ASF 2'] - data3['ASF']\n",
    "data3['Age minus'] = data3['Age 2'] - data3['Age']\n",
    "data3['nWBV minus'] = data3['nWBV 2'] - data3['nWBV']\n",
    "data3['MR Delay minus'] = data3['MR Delay 2'] - data3['MR Delay']\n",
    "data3['Visit minus'] = data3['Visit 2'] - data3['Visit']"
   ]
  },
  {
   "cell_type": "code",
   "execution_count": 130,
   "id": "67b784e8",
   "metadata": {},
   "outputs": [],
   "source": [
    "feature_columns =  [  'Group_x',  'M/F_x',\n",
    "       'MMSE 2', 'EDUC',  'CDR 2',  'Age 2',\n",
    "       'eTIV minus', 'ASF minus', 'nWBV minus', 'MR Delay minus'\n",
    "       ]\n",
    "\n",
    "\n",
    "data4 = data3[feature_columns]"
   ]
  },
  {
   "cell_type": "code",
   "execution_count": 131,
   "id": "10c4fc8e",
   "metadata": {},
   "outputs": [],
   "source": [
    "data5 = data4.copy()"
   ]
  },
  {
   "cell_type": "code",
   "execution_count": 132,
   "id": "b11bcfc4",
   "metadata": {},
   "outputs": [],
   "source": [
    "\n",
    "data5['Group_x'].replace({\"Converted\":\"Demented\"}, inplace= True) #converting Converted to Demented\n",
    "\n",
    "\n",
    "#One hoc encoding!\n",
    "data5['Group_x'] = data5['Group_x'].replace(['Nondemented','Demented'], [0,1]) #1 hoc encoding ND and D\n",
    "data5 = pd.get_dummies(data5, prefix = 'Gender', columns=['M/F_x'], drop_first=True) # 1 hoc encdoing M/F"
   ]
  },
  {
   "cell_type": "code",
   "execution_count": 133,
   "id": "fce34749",
   "metadata": {},
   "outputs": [],
   "source": [
    "feature_cols2 =  ['MMSE 2', \n",
    "                  'EDUC', \n",
    "                  #'SES', \n",
    "                  #'CDR 2',\n",
    "                  'Age 2',\n",
    "                  'eTIV minus',\n",
    "                  'nWBV minus', \n",
    "                  #'MR Delay minus',\n",
    "                  'Gender_M']"
   ]
  },
  {
   "cell_type": "code",
   "execution_count": 134,
   "id": "6320d77a",
   "metadata": {},
   "outputs": [],
   "source": [
    "X = data5[feature_cols2]\n",
    "X = sm.add_constant(X)\n",
    "y = data5['Group_x']"
   ]
  },
  {
   "cell_type": "code",
   "execution_count": 135,
   "id": "b1176bdf",
   "metadata": {},
   "outputs": [],
   "source": [
    "#Train, Test Split\n",
    "X_train, X_test, y_train, y_test = train_test_split(X, y, train_size = 0.8, test_size = 0.2, random_state = 15, stratify=y)\n"
   ]
  },
  {
   "cell_type": "code",
   "execution_count": 136,
   "id": "5284c4b9",
   "metadata": {},
   "outputs": [],
   "source": [
    "X_train_eng = X_train.copy()\n",
    "X_test_eng = X_test.copy()"
   ]
  },
  {
   "cell_type": "code",
   "execution_count": 137,
   "id": "7beebb37",
   "metadata": {},
   "outputs": [],
   "source": [
    "scaler = MinMaxScaler()"
   ]
  },
  {
   "cell_type": "code",
   "execution_count": 138,
   "id": "4c794d6b",
   "metadata": {},
   "outputs": [],
   "source": [
    "# this code serves to separate the constant from the dataframe\n",
    "# if the consant is scaled it is reduced to 0 and becomes useless\n",
    "# here we also re-index the scaled dataframe since it loses the index when scaled\n",
    "if 'const' in list(X_train_eng.columns) and 'const' in list(X_test_eng.columns):\n",
    "\n",
    "    # Fit and scale the training data\n",
    "    c = pd.DataFrame(X_train_eng['const'])\n",
    "    c.reset_index(drop = True, inplace = True)\n",
    "\n",
    "    X_train_eng.drop(columns = 'const', inplace = True)\n",
    "\n",
    "    scaled_X_train = scaler.fit_transform(X_train_eng)\n",
    "\n",
    "    precols = list(X_train_eng.columns)\n",
    "    scaled_X_train = pd.DataFrame(scaled_X_train, columns= precols)\n",
    "\n",
    "    scaled_X_train = pd.concat([c,scaled_X_train], axis = 1)\n",
    "\n",
    "    scaled_X_train.set_index(X_train_eng.reset_index()['index'], inplace = True)\n",
    "\n",
    "    # Scale the test data \n",
    "\n",
    "    k = pd.DataFrame(X_test_eng['const'])\n",
    "    k.reset_index(drop = True, inplace = True)\n",
    "\n",
    "    X_test_eng.drop(columns = 'const', inplace = True)\n",
    "\n",
    "    scaled_X_test = scaler.transform(X_test_eng)\n",
    "\n",
    "    scaled_X_test = pd.DataFrame(scaled_X_test, columns= precols)\n",
    "\n",
    "    scaled_X_test = pd.concat([k,scaled_X_test], axis = 1)\n",
    "\n",
    "    scaled_X_test.set_index(X_test_eng.reset_index()['index'], inplace = True)\n",
    "\n",
    "else:\n",
    "    precols = list(X_train_eng.columns)\n",
    "    \n",
    "    scaled_X_train = scaler.fit_transform(X_train_eng)\n",
    "    scaled_X_train = pd.DataFrame(scaled_X_train, columns= precols)\n",
    "    \n",
    "    scaled_X_train.set_index(X_train_eng.reset_index()['index'], inplace = True)\n",
    "\n",
    "    scaled_X_test = scaler.transform(X_test_eng)\n",
    "    scaled_X_test = pd.DataFrame(scaled_X_test, columns= precols)\n",
    "    \n",
    "    scaled_X_test.set_index(X_test_eng.reset_index()['index'], inplace = True)"
   ]
  },
  {
   "cell_type": "code",
   "execution_count": 139,
   "id": "b9122704",
   "metadata": {},
   "outputs": [
    {
     "data": {
      "text/plain": [
       "SVC(random_state=42)"
      ]
     },
     "execution_count": 139,
     "metadata": {},
     "output_type": "execute_result"
    }
   ],
   "source": [
    "from sklearn.svm import SVC\n",
    "clf_svm = SVC(random_state=42)\n",
    "clf_svm.fit(scaled_X_train, y_train) #training it on the training data"
   ]
  },
  {
   "cell_type": "code",
   "execution_count": 140,
   "id": "b0450de9",
   "metadata": {},
   "outputs": [
    {
     "data": {
      "text/plain": [
       "<sklearn.metrics._plot.confusion_matrix.ConfusionMatrixDisplay at 0x236df48cd90>"
      ]
     },
     "execution_count": 140,
     "metadata": {},
     "output_type": "execute_result"
    },
    {
     "data": {
      "image/png": "[encoded data removed]",
      "text/plain": [
       "<Figure size 432x288 with 2 Axes>"
      ]
     },
     "metadata": {
      "needs_background": "light"
     },
     "output_type": "display_data"
    }
   ],
   "source": [
    "plot_confusion_matrix(clf_svm, #train vector machine\n",
    "                      scaled_X_test, #passing our test\n",
    "                      y_test, #passing our y test\n",
    "                      values_format = 'd',\n",
    "                      display_labels=[\"Did not default\", \"Defaulted\"]\n",
    "                     )"
   ]
  },
  {
   "cell_type": "markdown",
   "id": "b3be037c",
   "metadata": {},
   "source": [
    "Use Cross Validation! Using GridSearchCV()"
   ]
  },
  {
   "cell_type": "code",
   "execution_count": 141,
   "id": "6e71118b",
   "metadata": {},
   "outputs": [
    {
     "name": "stdout",
     "output_type": "stream",
     "text": [
      "{'C': 10, 'gamma': 'scale', 'kernel': 'linear'}\n"
     ]
    }
   ],
   "source": [
    "# creating list of parameter values\n",
    "param_grid = [\n",
    "    {'kernel': ['linear'], \n",
    "     'C': [0.01, 0.1, 1, 10, 20, 30, 40, 50, 100, 1000],\n",
    "     'gamma': ['scale', 1, 0.1, 0.01, 0.001, 0.0001]}\n",
    "]\n",
    "\n",
    "\n",
    "optimal_params = GridSearchCV(\n",
    "    SVC(),\n",
    "    param_grid,\n",
    "    cv=5,\n",
    "    scoring='accuracy'\n",
    ")\n",
    "\n",
    "optimal_params.fit(scaled_X_train,y_train)\n",
    "print(optimal_params.best_params_)"
   ]
  },
  {
   "cell_type": "markdown",
   "id": "8407be78",
   "metadata": {},
   "source": [
    "Building, Evaluating, Drawing and Interpreting the FINAL SVM"
   ]
  },
  {
   "cell_type": "code",
   "execution_count": 142,
   "id": "58664db4",
   "metadata": {},
   "outputs": [
    {
     "data": {
      "text/plain": [
       "SVC(C=10, kernel='linear', random_state=42)"
      ]
     },
     "execution_count": 142,
     "metadata": {},
     "output_type": "execute_result"
    }
   ],
   "source": [
    "clf_svm = SVC(random_state=42, C=10, gamma='scale', kernel = 'linear')\n",
    "clf_svm.fit(scaled_X_train, y_train) "
   ]
  },
  {
   "cell_type": "code",
   "execution_count": null,
   "id": "0557808d",
   "metadata": {},
   "outputs": [],
   "source": []
  },
  {
   "cell_type": "code",
   "execution_count": 143,
   "id": "2fa96ef4",
   "metadata": {},
   "outputs": [
    {
     "data": {
      "text/plain": [
       "<sklearn.metrics._plot.confusion_matrix.ConfusionMatrixDisplay at 0x236e19f55e0>"
      ]
     },
     "execution_count": 143,
     "metadata": {},
     "output_type": "execute_result"
    },
    {
     "data": {
      "image/png": "[encoded data removed]",
      "text/plain": [
       "<Figure size 432x288 with 2 Axes>"
      ]
     },
     "metadata": {
      "needs_background": "light"
     },
     "output_type": "display_data"
    }
   ],
   "source": [
    "plot_confusion_matrix(clf_svm, #train vector machine\n",
    "                      scaled_X_test, #passing our test\n",
    "                      y_test, #passing our y test\n",
    "                      values_format = 'd',\n",
    "                      display_labels=[\"Did not default\", \"Defaulted\"]\n",
    "                     )"
   ]
  },
  {
   "cell_type": "code",
   "execution_count": 144,
   "id": "5a58b5ee",
   "metadata": {},
   "outputs": [],
   "source": [
    "# print(classification_report(y_train, clf_svm.predict(scaled_X_train)))"
   ]
  },
  {
   "cell_type": "code",
   "execution_count": 145,
   "id": "5794f09e",
   "metadata": {},
   "outputs": [
    {
     "name": "stdout",
     "output_type": "stream",
     "text": [
      "              precision    recall  f1-score   support\n",
      "\n",
      "           0       0.78      0.93      0.85        15\n",
      "           1       0.91      0.71      0.80        14\n",
      "\n",
      "    accuracy                           0.83        29\n",
      "   macro avg       0.84      0.82      0.82        29\n",
      "weighted avg       0.84      0.83      0.83        29\n",
      "\n"
     ]
    }
   ],
   "source": [
    "print(classification_report(y_test, clf_svm.predict(scaled_X_test)))\n",
    "\n",
    "#0.93, 0.69\n",
    "#0.81, "
   ]
  },
  {
   "cell_type": "code",
   "execution_count": 146,
   "id": "c0c2b53b",
   "metadata": {},
   "outputs": [
    {
     "name": "stdout",
     "output_type": "stream",
     "text": [
      "Accuracy:0.8275862068965517\n",
      "Precision:0.9090909090909091\n",
      "Recall:0.7142857142857143\n",
      "F1:0.8\n"
     ]
    },
    {
     "data": {
      "text/plain": [
       "(0.8275862068965517, 0.9090909090909091, 0.7142857142857143, 0.8)"
      ]
     },
     "execution_count": 146,
     "metadata": {},
     "output_type": "execute_result"
    }
   ],
   "source": [
    "apr(y_test, clf_svm.predict(scaled_X_test))\n",
    "#0.8, 0.91, 0.68, 0.78"
   ]
  },
  {
   "cell_type": "code",
   "execution_count": 147,
   "id": "1764942a",
   "metadata": {},
   "outputs": [
    {
     "name": "stdout",
     "output_type": "stream",
     "text": [
      "Accuracy:0.8141592920353983\n",
      "Precision:0.8888888888888888\n",
      "Recall:0.7142857142857143\n",
      "F1:0.792079207920792\n"
     ]
    },
    {
     "data": {
      "text/plain": [
       "(0.8141592920353983, 0.8888888888888888, 0.7142857142857143, 0.792079207920792)"
      ]
     },
     "execution_count": 147,
     "metadata": {},
     "output_type": "execute_result"
    }
   ],
   "source": [
    "# #train scores\n",
    "apr(y_train, clf_svm.predict(scaled_X_train))\n"
   ]
  },
  {
   "cell_type": "code",
   "execution_count": null,
   "id": "16236f2c",
   "metadata": {},
   "outputs": [],
   "source": []
  },
  {
   "cell_type": "code",
   "execution_count": null,
   "id": "6ed435dd",
   "metadata": {},
   "outputs": [],
   "source": []
  }
 ],
 "metadata": {
  "kernelspec": {
   "display_name": "Python 3",
   "language": "python",
   "name": "python3"
  },
  "language_info": {
   "codemirror_mode": {
    "name": "ipython",
    "version": 3
   },
   "file_extension": ".py",
   "mimetype": "text/x-python",
   "name": "python",
   "nbconvert_exporter": "python",
   "pygments_lexer": "ipython3",
   "version": "3.8.8"
  }
 },
 "nbformat": 4,
 "nbformat_minor": 5
}
